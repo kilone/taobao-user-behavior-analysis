{
 "cells": [
  {
   "cell_type": "code",
   "execution_count": 1,
   "metadata": {},
   "outputs": [],
   "source": [
    "import pandas as pd\n",
    "import numpy as np\n",
    "from datetime import datetime\n",
    "import matplotlib.pyplot as plt\n",
    "import seaborn as sns\n",
    "%matplotlib inline"
   ]
  },
  {
   "cell_type": "markdown",
   "metadata": {},
   "source": [
    "# 1.数据加载"
   ]
  },
  {
   "cell_type": "markdown",
   "metadata": {},
   "source": [
    "因为原数据没有标题行，所以根据数据源的描述，在加载数据是添加了一行作为标题"
   ]
  },
  {
   "cell_type": "code",
   "execution_count": 2,
   "metadata": {},
   "outputs": [],
   "source": [
    "names = ['User_ID', 'Item_ID', 'Category_ID', 'Behavior_type', 'Timestamp']\n",
    "data_set= pd.read_csv(r'D:\\Dataset\\Goods-and-its-Category-data-from-Alibaba\\UserBehavior.csv', names=names, nrows=10000000)"
   ]
  },
  {
   "cell_type": "code",
   "execution_count": 3,
   "metadata": {},
   "outputs": [
    {
     "data": {
      "text/html": [
       "<div>\n",
       "<style scoped>\n",
       "    .dataframe tbody tr th:only-of-type {\n",
       "        vertical-align: middle;\n",
       "    }\n",
       "\n",
       "    .dataframe tbody tr th {\n",
       "        vertical-align: top;\n",
       "    }\n",
       "\n",
       "    .dataframe thead th {\n",
       "        text-align: right;\n",
       "    }\n",
       "</style>\n",
       "<table border=\"1\" class=\"dataframe\">\n",
       "  <thead>\n",
       "    <tr style=\"text-align: right;\">\n",
       "      <th></th>\n",
       "      <th>User_ID</th>\n",
       "      <th>Item_ID</th>\n",
       "      <th>Category_ID</th>\n",
       "      <th>Behavior_type</th>\n",
       "      <th>Timestamp</th>\n",
       "    </tr>\n",
       "  </thead>\n",
       "  <tbody>\n",
       "    <tr>\n",
       "      <th>0</th>\n",
       "      <td>1</td>\n",
       "      <td>2268318</td>\n",
       "      <td>2520377</td>\n",
       "      <td>pv</td>\n",
       "      <td>1511544070</td>\n",
       "    </tr>\n",
       "    <tr>\n",
       "      <th>1</th>\n",
       "      <td>1</td>\n",
       "      <td>2333346</td>\n",
       "      <td>2520771</td>\n",
       "      <td>pv</td>\n",
       "      <td>1511561733</td>\n",
       "    </tr>\n",
       "    <tr>\n",
       "      <th>2</th>\n",
       "      <td>1</td>\n",
       "      <td>2576651</td>\n",
       "      <td>149192</td>\n",
       "      <td>pv</td>\n",
       "      <td>1511572885</td>\n",
       "    </tr>\n",
       "    <tr>\n",
       "      <th>3</th>\n",
       "      <td>1</td>\n",
       "      <td>3830808</td>\n",
       "      <td>4181361</td>\n",
       "      <td>pv</td>\n",
       "      <td>1511593493</td>\n",
       "    </tr>\n",
       "    <tr>\n",
       "      <th>4</th>\n",
       "      <td>1</td>\n",
       "      <td>4365585</td>\n",
       "      <td>2520377</td>\n",
       "      <td>pv</td>\n",
       "      <td>1511596146</td>\n",
       "    </tr>\n",
       "  </tbody>\n",
       "</table>\n",
       "</div>"
      ],
      "text/plain": [
       "   User_ID  Item_ID  Category_ID Behavior_type   Timestamp\n",
       "0        1  2268318      2520377            pv  1511544070\n",
       "1        1  2333346      2520771            pv  1511561733\n",
       "2        1  2576651       149192            pv  1511572885\n",
       "3        1  3830808      4181361            pv  1511593493\n",
       "4        1  4365585      2520377            pv  1511596146"
      ]
     },
     "execution_count": 3,
     "metadata": {},
     "output_type": "execute_result"
    }
   ],
   "source": [
    "data_set.head()"
   ]
  },
  {
   "cell_type": "code",
   "execution_count": 4,
   "metadata": {
    "scrolled": true
   },
   "outputs": [
    {
     "data": {
      "text/html": [
       "<div>\n",
       "<style scoped>\n",
       "    .dataframe tbody tr th:only-of-type {\n",
       "        vertical-align: middle;\n",
       "    }\n",
       "\n",
       "    .dataframe tbody tr th {\n",
       "        vertical-align: top;\n",
       "    }\n",
       "\n",
       "    .dataframe thead th {\n",
       "        text-align: right;\n",
       "    }\n",
       "</style>\n",
       "<table border=\"1\" class=\"dataframe\">\n",
       "  <thead>\n",
       "    <tr style=\"text-align: right;\">\n",
       "      <th></th>\n",
       "      <th>User_ID</th>\n",
       "      <th>Item_ID</th>\n",
       "      <th>Category_ID</th>\n",
       "      <th>Timestamp</th>\n",
       "    </tr>\n",
       "  </thead>\n",
       "  <tbody>\n",
       "    <tr>\n",
       "      <th>count</th>\n",
       "      <td>1.000000e+07</td>\n",
       "      <td>1.000000e+07</td>\n",
       "      <td>1.000000e+07</td>\n",
       "      <td>1.000000e+07</td>\n",
       "    </tr>\n",
       "    <tr>\n",
       "      <th>mean</th>\n",
       "      <td>3.151168e+05</td>\n",
       "      <td>2.579448e+06</td>\n",
       "      <td>2.706506e+06</td>\n",
       "      <td>1.511952e+09</td>\n",
       "    </tr>\n",
       "    <tr>\n",
       "      <th>std</th>\n",
       "      <td>1.976828e+05</td>\n",
       "      <td>1.487640e+06</td>\n",
       "      <td>1.464218e+06</td>\n",
       "      <td>6.058377e+06</td>\n",
       "    </tr>\n",
       "    <tr>\n",
       "      <th>min</th>\n",
       "      <td>1.000000e+00</td>\n",
       "      <td>3.000000e+00</td>\n",
       "      <td>1.147000e+03</td>\n",
       "      <td>-2.034497e+09</td>\n",
       "    </tr>\n",
       "    <tr>\n",
       "      <th>25%</th>\n",
       "      <td>1.773220e+05</td>\n",
       "      <td>1.295395e+06</td>\n",
       "      <td>1.338377e+06</td>\n",
       "      <td>1.511762e+09</td>\n",
       "    </tr>\n",
       "    <tr>\n",
       "      <th>50%</th>\n",
       "      <td>3.033830e+05</td>\n",
       "      <td>2.579668e+06</td>\n",
       "      <td>2.693696e+06</td>\n",
       "      <td>1.511965e+09</td>\n",
       "    </tr>\n",
       "    <tr>\n",
       "      <th>75%</th>\n",
       "      <td>4.289120e+05</td>\n",
       "      <td>3.861127e+06</td>\n",
       "      <td>4.145813e+06</td>\n",
       "      <td>1.512180e+09</td>\n",
       "    </tr>\n",
       "    <tr>\n",
       "      <th>max</th>\n",
       "      <td>1.018011e+06</td>\n",
       "      <td>5.163067e+06</td>\n",
       "      <td>5.162429e+06</td>\n",
       "      <td>2.122867e+09</td>\n",
       "    </tr>\n",
       "  </tbody>\n",
       "</table>\n",
       "</div>"
      ],
      "text/plain": [
       "            User_ID       Item_ID   Category_ID     Timestamp\n",
       "count  1.000000e+07  1.000000e+07  1.000000e+07  1.000000e+07\n",
       "mean   3.151168e+05  2.579448e+06  2.706506e+06  1.511952e+09\n",
       "std    1.976828e+05  1.487640e+06  1.464218e+06  6.058377e+06\n",
       "min    1.000000e+00  3.000000e+00  1.147000e+03 -2.034497e+09\n",
       "25%    1.773220e+05  1.295395e+06  1.338377e+06  1.511762e+09\n",
       "50%    3.033830e+05  2.579668e+06  2.693696e+06  1.511965e+09\n",
       "75%    4.289120e+05  3.861127e+06  4.145813e+06  1.512180e+09\n",
       "max    1.018011e+06  5.163067e+06  5.162429e+06  2.122867e+09"
      ]
     },
     "execution_count": 4,
     "metadata": {},
     "output_type": "execute_result"
    }
   ],
   "source": [
    "data_set.describe()"
   ]
  },
  {
   "cell_type": "markdown",
   "metadata": {},
   "source": [
    "timestamp列存在负值，属于脏数据，因为时间不可能为负，需要清理"
   ]
  },
  {
   "cell_type": "code",
   "execution_count": 5,
   "metadata": {},
   "outputs": [
    {
     "name": "stdout",
     "output_type": "stream",
     "text": [
      "<class 'pandas.core.frame.DataFrame'>\n",
      "RangeIndex: 10000000 entries, 0 to 9999999\n",
      "Data columns (total 5 columns):\n",
      "User_ID          int64\n",
      "Item_ID          int64\n",
      "Category_ID      int64\n",
      "Behavior_type    object\n",
      "Timestamp        int64\n",
      "dtypes: int64(4), object(1)\n",
      "memory usage: 381.5+ MB\n"
     ]
    }
   ],
   "source": [
    "data_set.info()"
   ]
  },
  {
   "cell_type": "markdown",
   "metadata": {},
   "source": [
    "数据总共有19807536条，其中User_ID, Item_ID，Category_ID，Timestamp均为整数型数\n",
    "据，Behavior_type为object类型"
   ]
  },
  {
   "cell_type": "markdown",
   "metadata": {},
   "source": [
    "# 2.数据清洗"
   ]
  },
  {
   "cell_type": "markdown",
   "metadata": {},
   "source": [
    "### 滤除缺失数据"
   ]
  },
  {
   "cell_type": "code",
   "execution_count": 6,
   "metadata": {},
   "outputs": [
    {
     "data": {
      "text/plain": [
       "User_ID          False\n",
       "Item_ID          False\n",
       "Category_ID      False\n",
       "Behavior_type    False\n",
       "Timestamp        False\n",
       "dtype: bool"
      ]
     },
     "execution_count": 6,
     "metadata": {},
     "output_type": "execute_result"
    }
   ],
   "source": [
    "data_set.isnull().any()"
   ]
  },
  {
   "cell_type": "markdown",
   "metadata": {},
   "source": [
    "通过函数可知，数据集中没有缺失数据，不需要去除缺失数据"
   ]
  },
  {
   "cell_type": "markdown",
   "metadata": {},
   "source": [
    "### 移除重复数据"
   ]
  },
  {
   "cell_type": "code",
   "execution_count": 7,
   "metadata": {},
   "outputs": [
    {
     "data": {
      "text/plain": [
       "5"
      ]
     },
     "execution_count": 7,
     "metadata": {},
     "output_type": "execute_result"
    }
   ],
   "source": [
    "data_set.duplicated().sum()"
   ]
  },
  {
   "cell_type": "code",
   "execution_count": 8,
   "metadata": {},
   "outputs": [],
   "source": [
    "data_set.drop_duplicates(inplace=True) "
   ]
  },
  {
   "cell_type": "code",
   "execution_count": 9,
   "metadata": {},
   "outputs": [
    {
     "data": {
      "text/plain": [
       "User_ID          9999995\n",
       "Item_ID          9999995\n",
       "Category_ID      9999995\n",
       "Behavior_type    9999995\n",
       "Timestamp        9999995\n",
       "dtype: int64"
      ]
     },
     "execution_count": 9,
     "metadata": {},
     "output_type": "execute_result"
    }
   ],
   "source": [
    "data_set.count()"
   ]
  },
  {
   "cell_type": "markdown",
   "metadata": {},
   "source": [
    "原数据中含有5条重复数据，已去除"
   ]
  },
  {
   "cell_type": "markdown",
   "metadata": {},
   "source": [
    "### 滤除不合理的数据"
   ]
  },
  {
   "cell_type": "markdown",
   "metadata": {},
   "source": [
    "通过describe函数发现时间数据中存在负值，最大值也大于目前的时间。说明这个字段包含一些错误的数据，需要过滤掉"
   ]
  },
  {
   "cell_type": "markdown",
   "metadata": {},
   "source": [
    "把Timestam格式的数据转化为datetime类型，以便于进行统计分析"
   ]
  },
  {
   "cell_type": "code",
   "execution_count": 10,
   "metadata": {},
   "outputs": [],
   "source": [
    "data_set = data_set[data_set['Timestamp'] > 86399]"
   ]
  },
  {
   "cell_type": "code",
   "execution_count": 11,
   "metadata": {
    "scrolled": true
   },
   "outputs": [],
   "source": [
    "#  使用pd.to_datetime转化Timestamp时，由于时区问题，处理起来不方便，所以采用datetime模块来处理\n",
    "# fromtimestamp函数的参数若为负值会报错（OSError: [Errno 22] Invalid argument），所以需要先去掉timestamp中的负值\n",
    "# 在Python3.6版本中，0 <= t <= 86399时，也会报相同的错，属于BUG\n",
    "data_set['Datetime'] = data_set['Timestamp'].apply(lambda unix_ts: datetime.fromtimestamp(unix_ts))"
   ]
  },
  {
   "cell_type": "code",
   "execution_count": 12,
   "metadata": {},
   "outputs": [
    {
     "data": {
      "text/html": [
       "<div>\n",
       "<style scoped>\n",
       "    .dataframe tbody tr th:only-of-type {\n",
       "        vertical-align: middle;\n",
       "    }\n",
       "\n",
       "    .dataframe tbody tr th {\n",
       "        vertical-align: top;\n",
       "    }\n",
       "\n",
       "    .dataframe thead th {\n",
       "        text-align: right;\n",
       "    }\n",
       "</style>\n",
       "<table border=\"1\" class=\"dataframe\">\n",
       "  <thead>\n",
       "    <tr style=\"text-align: right;\">\n",
       "      <th></th>\n",
       "      <th>User_ID</th>\n",
       "      <th>Item_ID</th>\n",
       "      <th>Category_ID</th>\n",
       "      <th>Behavior_type</th>\n",
       "      <th>Timestamp</th>\n",
       "      <th>Datetime</th>\n",
       "    </tr>\n",
       "  </thead>\n",
       "  <tbody>\n",
       "    <tr>\n",
       "      <th>0</th>\n",
       "      <td>1</td>\n",
       "      <td>2268318</td>\n",
       "      <td>2520377</td>\n",
       "      <td>pv</td>\n",
       "      <td>1511544070</td>\n",
       "      <td>2017-11-25 01:21:10</td>\n",
       "    </tr>\n",
       "    <tr>\n",
       "      <th>1</th>\n",
       "      <td>1</td>\n",
       "      <td>2333346</td>\n",
       "      <td>2520771</td>\n",
       "      <td>pv</td>\n",
       "      <td>1511561733</td>\n",
       "      <td>2017-11-25 06:15:33</td>\n",
       "    </tr>\n",
       "    <tr>\n",
       "      <th>2</th>\n",
       "      <td>1</td>\n",
       "      <td>2576651</td>\n",
       "      <td>149192</td>\n",
       "      <td>pv</td>\n",
       "      <td>1511572885</td>\n",
       "      <td>2017-11-25 09:21:25</td>\n",
       "    </tr>\n",
       "    <tr>\n",
       "      <th>3</th>\n",
       "      <td>1</td>\n",
       "      <td>3830808</td>\n",
       "      <td>4181361</td>\n",
       "      <td>pv</td>\n",
       "      <td>1511593493</td>\n",
       "      <td>2017-11-25 15:04:53</td>\n",
       "    </tr>\n",
       "    <tr>\n",
       "      <th>4</th>\n",
       "      <td>1</td>\n",
       "      <td>4365585</td>\n",
       "      <td>2520377</td>\n",
       "      <td>pv</td>\n",
       "      <td>1511596146</td>\n",
       "      <td>2017-11-25 15:49:06</td>\n",
       "    </tr>\n",
       "  </tbody>\n",
       "</table>\n",
       "</div>"
      ],
      "text/plain": [
       "   User_ID  Item_ID  Category_ID Behavior_type   Timestamp            Datetime\n",
       "0        1  2268318      2520377            pv  1511544070 2017-11-25 01:21:10\n",
       "1        1  2333346      2520771            pv  1511561733 2017-11-25 06:15:33\n",
       "2        1  2576651       149192            pv  1511572885 2017-11-25 09:21:25\n",
       "3        1  3830808      4181361            pv  1511593493 2017-11-25 15:04:53\n",
       "4        1  4365585      2520377            pv  1511596146 2017-11-25 15:49:06"
      ]
     },
     "execution_count": 12,
     "metadata": {},
     "output_type": "execute_result"
    }
   ],
   "source": [
    "data_set.head()"
   ]
  },
  {
   "cell_type": "markdown",
   "metadata": {},
   "source": [
    "分割日期，便于统计分析"
   ]
  },
  {
   "cell_type": "code",
   "execution_count": 13,
   "metadata": {},
   "outputs": [],
   "source": [
    "data_set['Date'] = data_set['Datetime'].dt.date"
   ]
  },
  {
   "cell_type": "code",
   "execution_count": 14,
   "metadata": {},
   "outputs": [
    {
     "data": {
      "text/plain": [
       "0    2017-11-25\n",
       "1    2017-11-25\n",
       "2    2017-11-25\n",
       "3    2017-11-25\n",
       "4    2017-11-25\n",
       "Name: Date, dtype: object"
      ]
     },
     "execution_count": 14,
     "metadata": {},
     "output_type": "execute_result"
    }
   ],
   "source": [
    "data_set['Date'].head()"
   ]
  },
  {
   "cell_type": "code",
   "execution_count": 15,
   "metadata": {},
   "outputs": [],
   "source": [
    "data_set['Hour'] = data_set['Datetime'].dt.hour"
   ]
  },
  {
   "cell_type": "code",
   "execution_count": 16,
   "metadata": {},
   "outputs": [
    {
     "data": {
      "text/html": [
       "<div>\n",
       "<style scoped>\n",
       "    .dataframe tbody tr th:only-of-type {\n",
       "        vertical-align: middle;\n",
       "    }\n",
       "\n",
       "    .dataframe tbody tr th {\n",
       "        vertical-align: top;\n",
       "    }\n",
       "\n",
       "    .dataframe thead th {\n",
       "        text-align: right;\n",
       "    }\n",
       "</style>\n",
       "<table border=\"1\" class=\"dataframe\">\n",
       "  <thead>\n",
       "    <tr style=\"text-align: right;\">\n",
       "      <th></th>\n",
       "      <th>User_ID</th>\n",
       "      <th>Item_ID</th>\n",
       "      <th>Category_ID</th>\n",
       "      <th>Behavior_type</th>\n",
       "      <th>Timestamp</th>\n",
       "      <th>Datetime</th>\n",
       "      <th>Date</th>\n",
       "      <th>Hour</th>\n",
       "    </tr>\n",
       "  </thead>\n",
       "  <tbody>\n",
       "    <tr>\n",
       "      <th>0</th>\n",
       "      <td>1</td>\n",
       "      <td>2268318</td>\n",
       "      <td>2520377</td>\n",
       "      <td>pv</td>\n",
       "      <td>1511544070</td>\n",
       "      <td>2017-11-25 01:21:10</td>\n",
       "      <td>2017-11-25</td>\n",
       "      <td>1</td>\n",
       "    </tr>\n",
       "    <tr>\n",
       "      <th>1</th>\n",
       "      <td>1</td>\n",
       "      <td>2333346</td>\n",
       "      <td>2520771</td>\n",
       "      <td>pv</td>\n",
       "      <td>1511561733</td>\n",
       "      <td>2017-11-25 06:15:33</td>\n",
       "      <td>2017-11-25</td>\n",
       "      <td>6</td>\n",
       "    </tr>\n",
       "    <tr>\n",
       "      <th>2</th>\n",
       "      <td>1</td>\n",
       "      <td>2576651</td>\n",
       "      <td>149192</td>\n",
       "      <td>pv</td>\n",
       "      <td>1511572885</td>\n",
       "      <td>2017-11-25 09:21:25</td>\n",
       "      <td>2017-11-25</td>\n",
       "      <td>9</td>\n",
       "    </tr>\n",
       "    <tr>\n",
       "      <th>3</th>\n",
       "      <td>1</td>\n",
       "      <td>3830808</td>\n",
       "      <td>4181361</td>\n",
       "      <td>pv</td>\n",
       "      <td>1511593493</td>\n",
       "      <td>2017-11-25 15:04:53</td>\n",
       "      <td>2017-11-25</td>\n",
       "      <td>15</td>\n",
       "    </tr>\n",
       "    <tr>\n",
       "      <th>4</th>\n",
       "      <td>1</td>\n",
       "      <td>4365585</td>\n",
       "      <td>2520377</td>\n",
       "      <td>pv</td>\n",
       "      <td>1511596146</td>\n",
       "      <td>2017-11-25 15:49:06</td>\n",
       "      <td>2017-11-25</td>\n",
       "      <td>15</td>\n",
       "    </tr>\n",
       "  </tbody>\n",
       "</table>\n",
       "</div>"
      ],
      "text/plain": [
       "   User_ID  Item_ID  Category_ID Behavior_type   Timestamp  \\\n",
       "0        1  2268318      2520377            pv  1511544070   \n",
       "1        1  2333346      2520771            pv  1511561733   \n",
       "2        1  2576651       149192            pv  1511572885   \n",
       "3        1  3830808      4181361            pv  1511593493   \n",
       "4        1  4365585      2520377            pv  1511596146   \n",
       "\n",
       "             Datetime        Date  Hour  \n",
       "0 2017-11-25 01:21:10  2017-11-25     1  \n",
       "1 2017-11-25 06:15:33  2017-11-25     6  \n",
       "2 2017-11-25 09:21:25  2017-11-25     9  \n",
       "3 2017-11-25 15:04:53  2017-11-25    15  \n",
       "4 2017-11-25 15:49:06  2017-11-25    15  "
      ]
     },
     "execution_count": 16,
     "metadata": {},
     "output_type": "execute_result"
    }
   ],
   "source": [
    "data_set.head()"
   ]
  },
  {
   "cell_type": "markdown",
   "metadata": {},
   "source": [
    "根据数据集的描述，该数据集包含了2017年11月25日至2017年12月3日之间的数据。所以，需要根据条件去除不符合条件的数据"
   ]
  },
  {
   "cell_type": "code",
   "execution_count": 17,
   "metadata": {},
   "outputs": [],
   "source": [
    "data_set = data_set[(data_set['Datetime'] > datetime(2017, 11, 25)) & (data_set['Datetime'] < datetime(2017, 12, 4))]"
   ]
  },
  {
   "cell_type": "code",
   "execution_count": 18,
   "metadata": {},
   "outputs": [
    {
     "data": {
      "text/plain": [
       "User_ID          9994422\n",
       "Item_ID          9994422\n",
       "Category_ID      9994422\n",
       "Behavior_type    9994422\n",
       "Timestamp        9994422\n",
       "Datetime         9994422\n",
       "Date             9994422\n",
       "Hour             9994422\n",
       "dtype: int64"
      ]
     },
     "execution_count": 18,
     "metadata": {},
     "output_type": "execute_result"
    }
   ],
   "source": [
    "data_set.count()"
   ]
  },
  {
   "cell_type": "code",
   "execution_count": 19,
   "metadata": {},
   "outputs": [
    {
     "data": {
      "text/html": [
       "<div>\n",
       "<style scoped>\n",
       "    .dataframe tbody tr th:only-of-type {\n",
       "        vertical-align: middle;\n",
       "    }\n",
       "\n",
       "    .dataframe tbody tr th {\n",
       "        vertical-align: top;\n",
       "    }\n",
       "\n",
       "    .dataframe thead th {\n",
       "        text-align: right;\n",
       "    }\n",
       "</style>\n",
       "<table border=\"1\" class=\"dataframe\">\n",
       "  <thead>\n",
       "    <tr style=\"text-align: right;\">\n",
       "      <th></th>\n",
       "      <th>User_ID</th>\n",
       "      <th>Item_ID</th>\n",
       "      <th>Category_ID</th>\n",
       "      <th>Behavior_type</th>\n",
       "      <th>Timestamp</th>\n",
       "      <th>Datetime</th>\n",
       "      <th>Date</th>\n",
       "      <th>Hour</th>\n",
       "    </tr>\n",
       "  </thead>\n",
       "  <tbody>\n",
       "    <tr>\n",
       "      <th>0</th>\n",
       "      <td>1</td>\n",
       "      <td>2268318</td>\n",
       "      <td>2520377</td>\n",
       "      <td>pv</td>\n",
       "      <td>1511544070</td>\n",
       "      <td>2017-11-25 01:21:10</td>\n",
       "      <td>2017-11-25</td>\n",
       "      <td>1</td>\n",
       "    </tr>\n",
       "    <tr>\n",
       "      <th>1</th>\n",
       "      <td>1</td>\n",
       "      <td>2333346</td>\n",
       "      <td>2520771</td>\n",
       "      <td>pv</td>\n",
       "      <td>1511561733</td>\n",
       "      <td>2017-11-25 06:15:33</td>\n",
       "      <td>2017-11-25</td>\n",
       "      <td>6</td>\n",
       "    </tr>\n",
       "    <tr>\n",
       "      <th>2</th>\n",
       "      <td>1</td>\n",
       "      <td>2576651</td>\n",
       "      <td>149192</td>\n",
       "      <td>pv</td>\n",
       "      <td>1511572885</td>\n",
       "      <td>2017-11-25 09:21:25</td>\n",
       "      <td>2017-11-25</td>\n",
       "      <td>9</td>\n",
       "    </tr>\n",
       "    <tr>\n",
       "      <th>3</th>\n",
       "      <td>1</td>\n",
       "      <td>3830808</td>\n",
       "      <td>4181361</td>\n",
       "      <td>pv</td>\n",
       "      <td>1511593493</td>\n",
       "      <td>2017-11-25 15:04:53</td>\n",
       "      <td>2017-11-25</td>\n",
       "      <td>15</td>\n",
       "    </tr>\n",
       "    <tr>\n",
       "      <th>4</th>\n",
       "      <td>1</td>\n",
       "      <td>4365585</td>\n",
       "      <td>2520377</td>\n",
       "      <td>pv</td>\n",
       "      <td>1511596146</td>\n",
       "      <td>2017-11-25 15:49:06</td>\n",
       "      <td>2017-11-25</td>\n",
       "      <td>15</td>\n",
       "    </tr>\n",
       "  </tbody>\n",
       "</table>\n",
       "</div>"
      ],
      "text/plain": [
       "   User_ID  Item_ID  Category_ID Behavior_type   Timestamp  \\\n",
       "0        1  2268318      2520377            pv  1511544070   \n",
       "1        1  2333346      2520771            pv  1511561733   \n",
       "2        1  2576651       149192            pv  1511572885   \n",
       "3        1  3830808      4181361            pv  1511593493   \n",
       "4        1  4365585      2520377            pv  1511596146   \n",
       "\n",
       "             Datetime        Date  Hour  \n",
       "0 2017-11-25 01:21:10  2017-11-25     1  \n",
       "1 2017-11-25 06:15:33  2017-11-25     6  \n",
       "2 2017-11-25 09:21:25  2017-11-25     9  \n",
       "3 2017-11-25 15:04:53  2017-11-25    15  \n",
       "4 2017-11-25 15:49:06  2017-11-25    15  "
      ]
     },
     "execution_count": 19,
     "metadata": {},
     "output_type": "execute_result"
    }
   ],
   "source": [
    "data_set.head()"
   ]
  },
  {
   "cell_type": "markdown",
   "metadata": {},
   "source": [
    "# 3.数据分析"
   ]
  },
  {
   "cell_type": "markdown",
   "metadata": {},
   "source": [
    "经过一系列的数据清洗，数据集已经可以用来进行数据分析了。"
   ]
  },
  {
   "cell_type": "markdown",
   "metadata": {},
   "source": [
    "## 1.不同时间维度的用户行为分析"
   ]
  },
  {
   "cell_type": "markdown",
   "metadata": {},
   "source": [
    "### 1.以天为单位的用户行为变化"
   ]
  },
  {
   "cell_type": "markdown",
   "metadata": {},
   "source": [
    "以天为单位统计pv"
   ]
  },
  {
   "cell_type": "code",
   "execution_count": 20,
   "metadata": {},
   "outputs": [
    {
     "data": {
      "text/plain": [
       "2017-12-02    1238785\n",
       "2017-12-03    1225845\n",
       "2017-12-01     972109\n",
       "2017-11-26     952269\n",
       "2017-11-25     931870\n",
       "2017-11-30     929352\n",
       "2017-11-29     913153\n",
       "2017-11-27     897421\n",
       "2017-11-28     883696\n",
       "Name: Date, dtype: int64"
      ]
     },
     "execution_count": 20,
     "metadata": {},
     "output_type": "execute_result"
    }
   ],
   "source": [
    "daily_pv = data_set[data_set['Behavior_type'] == 'pv']['Date'].value_counts()\n",
    "daily_pv"
   ]
  },
  {
   "cell_type": "markdown",
   "metadata": {},
   "source": [
    "重新按日期排序索引"
   ]
  },
  {
   "cell_type": "code",
   "execution_count": 21,
   "metadata": {},
   "outputs": [],
   "source": [
    "daily_pv = daily_pv.sort_index()"
   ]
  },
  {
   "cell_type": "code",
   "execution_count": 22,
   "metadata": {},
   "outputs": [
    {
     "data": {
      "text/plain": [
       "2017-11-25     931870\n",
       "2017-11-26     952269\n",
       "2017-11-27     897421\n",
       "2017-11-28     883696\n",
       "2017-11-29     913153\n",
       "2017-11-30     929352\n",
       "2017-12-01     972109\n",
       "2017-12-02    1238785\n",
       "2017-12-03    1225845\n",
       "Name: Date, dtype: int64"
      ]
     },
     "execution_count": 22,
     "metadata": {},
     "output_type": "execute_result"
    }
   ],
   "source": [
    "daily_pv"
   ]
  },
  {
   "cell_type": "markdown",
   "metadata": {},
   "source": [
    "11月24日的日流量只有其他日期的十分之一，当日无特殊事件，所以可以判断当日数据不全，需要去除11月24日的数据"
   ]
  },
  {
   "cell_type": "markdown",
   "metadata": {},
   "source": [
    "绘制日流量柱状图"
   ]
  },
  {
   "cell_type": "code",
   "execution_count": 23,
   "metadata": {},
   "outputs": [
    {
     "data": {
      "text/plain": [
       "<matplotlib.axes._subplots.AxesSubplot at 0x222be5c07b8>"
      ]
     },
     "execution_count": 23,
     "metadata": {},
     "output_type": "execute_result"
    },
    {
     "data": {
      "image/png": "[encoded data removed]",
      "text/plain": [
       "<Figure size 432x288 with 1 Axes>"
      ]
     },
     "metadata": {},
     "output_type": "display_data"
    }
   ],
   "source": [
    "plt.style.use('ggplot')\n",
    "daily_pv.plot.bar()\n",
    "# plt.savefig('日流量柱状图.png',dpi=200, bbox_inches='tight')"
   ]
  },
  {
   "cell_type": "markdown",
   "metadata": {},
   "source": [
    "从2017/11/25到2017/12/01期间，pv一直比较稳定，在2017/12/02和2017/12/03这两天有较明显的增长，2017/12/02这一天的增长率超过20%，考虑到2017/11/25和2017/11/26这两天同为周末，但是用户行为数量与平时并没有明显增长，所以推断，周末对用户行为带来的影响较小，而2017/12/02和2017/12/03这两天的增长，可能是因为平台的“双十二”预热活动带来的影响。"
   ]
  },
  {
   "cell_type": "code",
   "execution_count": 24,
   "metadata": {},
   "outputs": [
    {
     "data": {
      "text/html": [
       "<div>\n",
       "<style scoped>\n",
       "    .dataframe tbody tr th:only-of-type {\n",
       "        vertical-align: middle;\n",
       "    }\n",
       "\n",
       "    .dataframe tbody tr th {\n",
       "        vertical-align: top;\n",
       "    }\n",
       "\n",
       "    .dataframe thead th {\n",
       "        text-align: right;\n",
       "    }\n",
       "</style>\n",
       "<table border=\"1\" class=\"dataframe\">\n",
       "  <thead>\n",
       "    <tr style=\"text-align: right;\">\n",
       "      <th></th>\n",
       "      <th>User_ID</th>\n",
       "      <th>Item_ID</th>\n",
       "      <th>Category_ID</th>\n",
       "      <th>Behavior_type</th>\n",
       "      <th>Timestamp</th>\n",
       "      <th>Datetime</th>\n",
       "      <th>Date</th>\n",
       "      <th>Hour</th>\n",
       "    </tr>\n",
       "  </thead>\n",
       "  <tbody>\n",
       "    <tr>\n",
       "      <th>0</th>\n",
       "      <td>1</td>\n",
       "      <td>2268318</td>\n",
       "      <td>2520377</td>\n",
       "      <td>pv</td>\n",
       "      <td>1511544070</td>\n",
       "      <td>2017-11-25 01:21:10</td>\n",
       "      <td>2017-11-25</td>\n",
       "      <td>1</td>\n",
       "    </tr>\n",
       "    <tr>\n",
       "      <th>1</th>\n",
       "      <td>1</td>\n",
       "      <td>2333346</td>\n",
       "      <td>2520771</td>\n",
       "      <td>pv</td>\n",
       "      <td>1511561733</td>\n",
       "      <td>2017-11-25 06:15:33</td>\n",
       "      <td>2017-11-25</td>\n",
       "      <td>6</td>\n",
       "    </tr>\n",
       "    <tr>\n",
       "      <th>2</th>\n",
       "      <td>1</td>\n",
       "      <td>2576651</td>\n",
       "      <td>149192</td>\n",
       "      <td>pv</td>\n",
       "      <td>1511572885</td>\n",
       "      <td>2017-11-25 09:21:25</td>\n",
       "      <td>2017-11-25</td>\n",
       "      <td>9</td>\n",
       "    </tr>\n",
       "    <tr>\n",
       "      <th>3</th>\n",
       "      <td>1</td>\n",
       "      <td>3830808</td>\n",
       "      <td>4181361</td>\n",
       "      <td>pv</td>\n",
       "      <td>1511593493</td>\n",
       "      <td>2017-11-25 15:04:53</td>\n",
       "      <td>2017-11-25</td>\n",
       "      <td>15</td>\n",
       "    </tr>\n",
       "    <tr>\n",
       "      <th>4</th>\n",
       "      <td>1</td>\n",
       "      <td>4365585</td>\n",
       "      <td>2520377</td>\n",
       "      <td>pv</td>\n",
       "      <td>1511596146</td>\n",
       "      <td>2017-11-25 15:49:06</td>\n",
       "      <td>2017-11-25</td>\n",
       "      <td>15</td>\n",
       "    </tr>\n",
       "  </tbody>\n",
       "</table>\n",
       "</div>"
      ],
      "text/plain": [
       "   User_ID  Item_ID  Category_ID Behavior_type   Timestamp  \\\n",
       "0        1  2268318      2520377            pv  1511544070   \n",
       "1        1  2333346      2520771            pv  1511561733   \n",
       "2        1  2576651       149192            pv  1511572885   \n",
       "3        1  3830808      4181361            pv  1511593493   \n",
       "4        1  4365585      2520377            pv  1511596146   \n",
       "\n",
       "             Datetime        Date  Hour  \n",
       "0 2017-11-25 01:21:10  2017-11-25     1  \n",
       "1 2017-11-25 06:15:33  2017-11-25     6  \n",
       "2 2017-11-25 09:21:25  2017-11-25     9  \n",
       "3 2017-11-25 15:04:53  2017-11-25    15  \n",
       "4 2017-11-25 15:49:06  2017-11-25    15  "
      ]
     },
     "execution_count": 24,
     "metadata": {},
     "output_type": "execute_result"
    }
   ],
   "source": [
    "data_set.head()"
   ]
  },
  {
   "cell_type": "code",
   "execution_count": 25,
   "metadata": {},
   "outputs": [],
   "source": [
    "daily_data2 = data_set['User_ID'].groupby([data_set['Date'], data_set['Behavior_type']]).count()"
   ]
  },
  {
   "cell_type": "code",
   "execution_count": 26,
   "metadata": {},
   "outputs": [
    {
     "data": {
      "text/html": [
       "<div>\n",
       "<style scoped>\n",
       "    .dataframe tbody tr th:only-of-type {\n",
       "        vertical-align: middle;\n",
       "    }\n",
       "\n",
       "    .dataframe tbody tr th {\n",
       "        vertical-align: top;\n",
       "    }\n",
       "\n",
       "    .dataframe thead th {\n",
       "        text-align: right;\n",
       "    }\n",
       "</style>\n",
       "<table border=\"1\" class=\"dataframe\">\n",
       "  <thead>\n",
       "    <tr style=\"text-align: right;\">\n",
       "      <th>Behavior_type</th>\n",
       "      <th>buy</th>\n",
       "      <th>cart</th>\n",
       "      <th>fav</th>\n",
       "      <th>pv</th>\n",
       "    </tr>\n",
       "    <tr>\n",
       "      <th>Date</th>\n",
       "      <th></th>\n",
       "      <th></th>\n",
       "      <th></th>\n",
       "      <th></th>\n",
       "    </tr>\n",
       "  </thead>\n",
       "  <tbody>\n",
       "    <tr>\n",
       "      <th>2017-11-25</th>\n",
       "      <td>19714</td>\n",
       "      <td>56278</td>\n",
       "      <td>30168</td>\n",
       "      <td>931870</td>\n",
       "    </tr>\n",
       "    <tr>\n",
       "      <th>2017-11-26</th>\n",
       "      <td>20210</td>\n",
       "      <td>59469</td>\n",
       "      <td>31281</td>\n",
       "      <td>952269</td>\n",
       "    </tr>\n",
       "    <tr>\n",
       "      <th>2017-11-27</th>\n",
       "      <td>22225</td>\n",
       "      <td>55010</td>\n",
       "      <td>29723</td>\n",
       "      <td>897421</td>\n",
       "    </tr>\n",
       "    <tr>\n",
       "      <th>2017-11-28</th>\n",
       "      <td>20996</td>\n",
       "      <td>54194</td>\n",
       "      <td>29002</td>\n",
       "      <td>883696</td>\n",
       "    </tr>\n",
       "    <tr>\n",
       "      <th>2017-11-29</th>\n",
       "      <td>21814</td>\n",
       "      <td>55802</td>\n",
       "      <td>30030</td>\n",
       "      <td>913153</td>\n",
       "    </tr>\n",
       "    <tr>\n",
       "      <th>2017-11-30</th>\n",
       "      <td>21731</td>\n",
       "      <td>56722</td>\n",
       "      <td>30469</td>\n",
       "      <td>929352</td>\n",
       "    </tr>\n",
       "    <tr>\n",
       "      <th>2017-12-01</th>\n",
       "      <td>20940</td>\n",
       "      <td>62885</td>\n",
       "      <td>31048</td>\n",
       "      <td>972109</td>\n",
       "    </tr>\n",
       "    <tr>\n",
       "      <th>2017-12-02</th>\n",
       "      <td>25866</td>\n",
       "      <td>80377</td>\n",
       "      <td>40210</td>\n",
       "      <td>1238785</td>\n",
       "    </tr>\n",
       "    <tr>\n",
       "      <th>2017-12-03</th>\n",
       "      <td>25642</td>\n",
       "      <td>78390</td>\n",
       "      <td>39726</td>\n",
       "      <td>1225845</td>\n",
       "    </tr>\n",
       "  </tbody>\n",
       "</table>\n",
       "</div>"
      ],
      "text/plain": [
       "Behavior_type    buy   cart    fav       pv\n",
       "Date                                       \n",
       "2017-11-25     19714  56278  30168   931870\n",
       "2017-11-26     20210  59469  31281   952269\n",
       "2017-11-27     22225  55010  29723   897421\n",
       "2017-11-28     20996  54194  29002   883696\n",
       "2017-11-29     21814  55802  30030   913153\n",
       "2017-11-30     21731  56722  30469   929352\n",
       "2017-12-01     20940  62885  31048   972109\n",
       "2017-12-02     25866  80377  40210  1238785\n",
       "2017-12-03     25642  78390  39726  1225845"
      ]
     },
     "execution_count": 26,
     "metadata": {},
     "output_type": "execute_result"
    }
   ],
   "source": [
    "daily_data = daily_data2.unstack()\n",
    "daily_data"
   ]
  },
  {
   "cell_type": "raw",
   "metadata": {},
   "source": [
    "以天为单位统计四种用户行为数量的对比"
   ]
  },
  {
   "cell_type": "code",
   "execution_count": 27,
   "metadata": {},
   "outputs": [
    {
     "name": "stderr",
     "output_type": "stream",
     "text": [
      "c:\\users\\kilo\\appdata\\local\\programs\\python\\python36\\lib\\site-packages\\matplotlib\\legend.py:508: UserWarning: Automatic legend placement (loc=\"best\") not implemented for figure legend. Falling back on \"upper right\".\n",
      "  warnings.warn('Automatic legend placement (loc=\"best\") not '\n"
     ]
    },
    {
     "data": {
      "text/plain": [
       "<matplotlib.legend.Legend at 0x22293b45cc0>"
      ]
     },
     "execution_count": 27,
     "metadata": {},
     "output_type": "execute_result"
    },
    {
     "data": {
      "image/png": "[encoded data removed]",
      "text/plain": [
       "<Figure size 720x432 with 2 Axes>"
      ]
     },
     "metadata": {},
     "output_type": "display_data"
    }
   ],
   "source": [
    "fig = plt.figure(figsize=(10,6))\n",
    "ax1= fig.add_subplot(111)\n",
    "ax1.plot(daily_data['pv'].index, daily_data['pv'])\n",
    "ax2 = ax1.twinx()\n",
    "ax2.plot(daily_data['buy'], color='k')\n",
    "ax2.plot(daily_data['cart'])\n",
    "ax2.plot(daily_data['fav'])\n",
    "plt.grid(b=False)\n",
    "ax1.set_ylim(0, 1700000)\n",
    "ax1.set_ylabel('pv')\n",
    "ax2.set_ylim(0, 600000)\n",
    "ax2.set_ylabel('buy, cart, fav')\n",
    "fig.legend(loc='best', bbox_to_anchor=(1,1), bbox_transform=ax1.transAxes)\n",
    "# plt.savefig('用户行为对比柱状图.png',dpi=200, bbox_inches='tight')"
   ]
  },
  {
   "cell_type": "markdown",
   "metadata": {},
   "source": [
    "从上表可以看出，用户购买，收藏和加入购车的行为与pv成正相关，同时用户购买，收藏和加入购车的行为数量在pv中占比极小"
   ]
  },
  {
   "cell_type": "markdown",
   "metadata": {},
   "source": [
    "每日独立访客数（UV）统计"
   ]
  },
  {
   "cell_type": "code",
   "execution_count": 28,
   "metadata": {},
   "outputs": [
    {
     "data": {
      "text/plain": [
       "Date\n",
       "2017-11-25    67984\n",
       "2017-11-26    68900\n",
       "2017-11-27    68153\n",
       "2017-11-28    68157\n",
       "2017-11-29    69191\n",
       "2017-11-30    70249\n",
       "2017-12-01    71071\n",
       "2017-12-02    93023\n",
       "2017-12-03    92804\n",
       "Name: User_ID, dtype: int64"
      ]
     },
     "execution_count": 28,
     "metadata": {},
     "output_type": "execute_result"
    }
   ],
   "source": [
    "daily_uv = data_set[data_set['Behavior_type'] == 'pv']['User_ID'].groupby(data_set['Date']).nunique()\n",
    "daily_uv"
   ]
  },
  {
   "cell_type": "code",
   "execution_count": 29,
   "metadata": {},
   "outputs": [
    {
     "data": {
      "text/plain": [
       "<matplotlib.axes._subplots.AxesSubplot at 0x22293d1e630>"
      ]
     },
     "execution_count": 29,
     "metadata": {},
     "output_type": "execute_result"
    },
    {
     "data": {
      "image/png": "[encoded data removed]",
      "text/plain": [
       "<Figure size 720x432 with 1 Axes>"
      ]
     },
     "metadata": {},
     "output_type": "display_data"
    }
   ],
   "source": [
    "daily_uv.plot(figsize=(10, 6), ylim=(0,190000 ))"
   ]
  },
  {
   "cell_type": "markdown",
   "metadata": {},
   "source": [
    "人均浏览页数"
   ]
  },
  {
   "cell_type": "code",
   "execution_count": 30,
   "metadata": {},
   "outputs": [],
   "source": [
    "daily_pu = daily_pv/daily_uv"
   ]
  },
  {
   "cell_type": "code",
   "execution_count": 31,
   "metadata": {},
   "outputs": [
    {
     "data": {
      "text/plain": [
       "2017-11-25    13.707196\n",
       "2017-11-26    13.821030\n",
       "2017-11-27    13.167740\n",
       "2017-11-28    12.965594\n",
       "2017-11-29    13.197569\n",
       "2017-11-30    13.229398\n",
       "2017-12-01    13.677998\n",
       "2017-12-02    13.316975\n",
       "2017-12-03    13.208967\n",
       "dtype: float64"
      ]
     },
     "execution_count": 31,
     "metadata": {},
     "output_type": "execute_result"
    }
   ],
   "source": [
    "daily_pu"
   ]
  },
  {
   "cell_type": "code",
   "execution_count": 32,
   "metadata": {},
   "outputs": [
    {
     "data": {
      "image/png": "[encoded data removed]",
      "text/plain": [
       "<Figure size 720x432 with 3 Axes>"
      ]
     },
     "metadata": {},
     "output_type": "display_data"
    }
   ],
   "source": [
    "fig = plt.figure(figsize=(10,6))\n",
    "ax1 = fig.add_subplot(211)\n",
    "ax2 = fig.add_subplot(223)\n",
    "ax3 = fig.add_subplot(224)\n",
    "ax1.plot(daily_pv)\n",
    "ax1.set_title('PV')\n",
    "ax2.plot(daily_uv)\n",
    "ax2.set_title('UV')\n",
    "ax2.set_ylim(40000, 120000)\n",
    "for tick in ax2.get_xticklabels():\n",
    "    tick.set_rotation(30)\n",
    "ax3.plot(daily_pu)\n",
    "ax3.set_title('PU')\n",
    "ax3.set_ylim(5, 20)\n",
    "for tick in ax3.get_xticklabels():\n",
    "    tick.set_rotation(30)\n",
    "plt.subplots_adjust(hspace = 0.3)"
   ]
  },
  {
   "cell_type": "markdown",
   "metadata": {},
   "source": [
    "从图中可以看出，用户日平均浏览页面数一直比较平稳，保持在13~14之间，而uv与pv成正相关关系，所以这段时间的PV的变化主要是由UV引起的"
   ]
  },
  {
   "cell_type": "markdown",
   "metadata": {},
   "source": [
    "### 2.一天中的用户行为分析"
   ]
  },
  {
   "cell_type": "code",
   "execution_count": 33,
   "metadata": {},
   "outputs": [
    {
     "data": {
      "text/plain": [
       "Behavior_type  Hour\n",
       "buy            0         5503\n",
       "               1         2158\n",
       "               2         1192\n",
       "               3          708\n",
       "               4          610\n",
       "               5          828\n",
       "               6         1774\n",
       "               7         3604\n",
       "               8         6321\n",
       "               9         9547\n",
       "               10       12703\n",
       "               11       12247\n",
       "               12       11748\n",
       "               13       12496\n",
       "               14       12013\n",
       "               15       12049\n",
       "               16       11666\n",
       "               17       10180\n",
       "               18        9434\n",
       "               19       11398\n",
       "               20       13212\n",
       "               21       14442\n",
       "               22       13549\n",
       "               23        9756\n",
       "cart           0        18328\n",
       "               1         8531\n",
       "               2         4455\n",
       "               3         3271\n",
       "               4         2683\n",
       "               5         3802\n",
       "                        ...  \n",
       "fav            18       13134\n",
       "               19       16213\n",
       "               20       19140\n",
       "               21       22181\n",
       "               22       22815\n",
       "               23       19538\n",
       "pv             0       299266\n",
       "               1       137524\n",
       "               2        75402\n",
       "               3        51747\n",
       "               4        43917\n",
       "               5        57233\n",
       "               6       121691\n",
       "               7       222821\n",
       "               8       306973\n",
       "               9       376430\n",
       "               10      433346\n",
       "               11      420295\n",
       "               12      422118\n",
       "               13      469847\n",
       "               14      463525\n",
       "               15      479240\n",
       "               16      464336\n",
       "               17      416957\n",
       "               18      429792\n",
       "               19      544812\n",
       "               20      657073\n",
       "               21      753741\n",
       "               22      739733\n",
       "               23      556681\n",
       "Name: Behavior_type, Length: 96, dtype: int64"
      ]
     },
     "execution_count": 33,
     "metadata": {},
     "output_type": "execute_result"
    }
   ],
   "source": [
    "hours_flow = data_set.groupby(['Behavior_type', 'Hour'])['Behavior_type'].count()\n",
    "hours_flow"
   ]
  },
  {
   "cell_type": "code",
   "execution_count": 34,
   "metadata": {},
   "outputs": [
    {
     "data": {
      "image/png": "[encoded data removed]",
      "text/plain": [
       "<Figure size 864x576 with 2 Axes>"
      ]
     },
     "metadata": {},
     "output_type": "display_data"
    }
   ],
   "source": [
    "plt.figure(figsize=(12, 8))\n",
    "plt.plot(hours_flow['pv'], label='pv')\n",
    "plt.xticks(hours_flow['pv'].index)\n",
    "plt.yticks(range(0, 1000000, 100000))\n",
    "plt.legend(loc='upper right')\n",
    "plt.grid(axis = 1)\n",
    "plt.twinx()\n",
    "plt.plot(hours_flow['fav'], label='fav', color='k')\n",
    "plt.plot(hours_flow['buy'], label='buy')\n",
    "plt.plot(hours_flow['cart'], label='cart')\n",
    "plt.legend(loc='upper left')\n",
    "plt.yticks(range(10000, 310000, 50000), fontsize=14)\n",
    "plt.grid(b=False)"
   ]
  },
  {
   "cell_type": "markdown",
   "metadata": {},
   "source": [
    "从图中可以看出，四种用户行为的趋势几乎一致，呈正相关关系。用户活动主要集中在上午8点到晚上23点之间，且在晚上21点达到最高峰，凌晨0点到8点是用户活动最少的时间段。从时间段分布上来看，符合正常人的作息时间。\n",
    "另外，我们可以看到用户活动在中午12点和晚上17点左右有一个明显的下降，因为这段时间是大多数人下班时间，一般人都在吃晚餐或者在下班回家的路上，没有时间进行购物活动。\n",
    "根据用户的行为习惯，我们可以相应的在晚上19到23点期间推出营销活动，以吸引更多的人参加。"
   ]
  },
  {
   "cell_type": "markdown",
   "metadata": {},
   "source": [
    "### 3.一周中的用户行为分析"
   ]
  },
  {
   "cell_type": "code",
   "execution_count": 35,
   "metadata": {},
   "outputs": [],
   "source": [
    "data_set['Week_day'] = data_set['Datetime'].dt.day_name()"
   ]
  },
  {
   "cell_type": "code",
   "execution_count": 36,
   "metadata": {},
   "outputs": [
    {
     "data": {
      "text/html": [
       "<div>\n",
       "<style scoped>\n",
       "    .dataframe tbody tr th:only-of-type {\n",
       "        vertical-align: middle;\n",
       "    }\n",
       "\n",
       "    .dataframe tbody tr th {\n",
       "        vertical-align: top;\n",
       "    }\n",
       "\n",
       "    .dataframe thead th {\n",
       "        text-align: right;\n",
       "    }\n",
       "</style>\n",
       "<table border=\"1\" class=\"dataframe\">\n",
       "  <thead>\n",
       "    <tr style=\"text-align: right;\">\n",
       "      <th></th>\n",
       "      <th>User_ID</th>\n",
       "      <th>Item_ID</th>\n",
       "      <th>Category_ID</th>\n",
       "      <th>Behavior_type</th>\n",
       "      <th>Timestamp</th>\n",
       "      <th>Datetime</th>\n",
       "      <th>Date</th>\n",
       "      <th>Hour</th>\n",
       "      <th>Week_day</th>\n",
       "    </tr>\n",
       "  </thead>\n",
       "  <tbody>\n",
       "    <tr>\n",
       "      <th>0</th>\n",
       "      <td>1</td>\n",
       "      <td>2268318</td>\n",
       "      <td>2520377</td>\n",
       "      <td>pv</td>\n",
       "      <td>1511544070</td>\n",
       "      <td>2017-11-25 01:21:10</td>\n",
       "      <td>2017-11-25</td>\n",
       "      <td>1</td>\n",
       "      <td>Saturday</td>\n",
       "    </tr>\n",
       "    <tr>\n",
       "      <th>1</th>\n",
       "      <td>1</td>\n",
       "      <td>2333346</td>\n",
       "      <td>2520771</td>\n",
       "      <td>pv</td>\n",
       "      <td>1511561733</td>\n",
       "      <td>2017-11-25 06:15:33</td>\n",
       "      <td>2017-11-25</td>\n",
       "      <td>6</td>\n",
       "      <td>Saturday</td>\n",
       "    </tr>\n",
       "    <tr>\n",
       "      <th>2</th>\n",
       "      <td>1</td>\n",
       "      <td>2576651</td>\n",
       "      <td>149192</td>\n",
       "      <td>pv</td>\n",
       "      <td>1511572885</td>\n",
       "      <td>2017-11-25 09:21:25</td>\n",
       "      <td>2017-11-25</td>\n",
       "      <td>9</td>\n",
       "      <td>Saturday</td>\n",
       "    </tr>\n",
       "    <tr>\n",
       "      <th>3</th>\n",
       "      <td>1</td>\n",
       "      <td>3830808</td>\n",
       "      <td>4181361</td>\n",
       "      <td>pv</td>\n",
       "      <td>1511593493</td>\n",
       "      <td>2017-11-25 15:04:53</td>\n",
       "      <td>2017-11-25</td>\n",
       "      <td>15</td>\n",
       "      <td>Saturday</td>\n",
       "    </tr>\n",
       "    <tr>\n",
       "      <th>4</th>\n",
       "      <td>1</td>\n",
       "      <td>4365585</td>\n",
       "      <td>2520377</td>\n",
       "      <td>pv</td>\n",
       "      <td>1511596146</td>\n",
       "      <td>2017-11-25 15:49:06</td>\n",
       "      <td>2017-11-25</td>\n",
       "      <td>15</td>\n",
       "      <td>Saturday</td>\n",
       "    </tr>\n",
       "  </tbody>\n",
       "</table>\n",
       "</div>"
      ],
      "text/plain": [
       "   User_ID  Item_ID  Category_ID Behavior_type   Timestamp  \\\n",
       "0        1  2268318      2520377            pv  1511544070   \n",
       "1        1  2333346      2520771            pv  1511561733   \n",
       "2        1  2576651       149192            pv  1511572885   \n",
       "3        1  3830808      4181361            pv  1511593493   \n",
       "4        1  4365585      2520377            pv  1511596146   \n",
       "\n",
       "             Datetime        Date  Hour  Week_day  \n",
       "0 2017-11-25 01:21:10  2017-11-25     1  Saturday  \n",
       "1 2017-11-25 06:15:33  2017-11-25     6  Saturday  \n",
       "2 2017-11-25 09:21:25  2017-11-25     9  Saturday  \n",
       "3 2017-11-25 15:04:53  2017-11-25    15  Saturday  \n",
       "4 2017-11-25 15:49:06  2017-11-25    15  Saturday  "
      ]
     },
     "execution_count": 36,
     "metadata": {},
     "output_type": "execute_result"
    }
   ],
   "source": [
    "data_set.head()"
   ]
  },
  {
   "cell_type": "code",
   "execution_count": 37,
   "metadata": {},
   "outputs": [
    {
     "data": {
      "text/plain": [
       "Behavior_type  Week_day \n",
       "buy            Friday         20940\n",
       "               Monday         22225\n",
       "               Saturday       25866\n",
       "               Sunday         25642\n",
       "               Thursday       21731\n",
       "               Tuesday        20996\n",
       "               Wednesday      21814\n",
       "cart           Friday         62885\n",
       "               Monday         55010\n",
       "               Saturday       80377\n",
       "               Sunday         78390\n",
       "               Thursday       56722\n",
       "               Tuesday        54194\n",
       "               Wednesday      55802\n",
       "fav            Friday         31048\n",
       "               Monday         29723\n",
       "               Saturday       40210\n",
       "               Sunday         39726\n",
       "               Thursday       30469\n",
       "               Tuesday        29002\n",
       "               Wednesday      30030\n",
       "pv             Friday        972109\n",
       "               Monday        897421\n",
       "               Saturday     1238785\n",
       "               Sunday       1225845\n",
       "               Thursday      929352\n",
       "               Tuesday       883696\n",
       "               Wednesday     913153\n",
       "Name: Behavior_type, dtype: int64"
      ]
     },
     "execution_count": 37,
     "metadata": {},
     "output_type": "execute_result"
    }
   ],
   "source": [
    "week_flow = data_set[data_set['Datetime'] >= '2017-11-27' ].groupby(['Behavior_type', 'Week_day'])['Behavior_type'].count()\n",
    "week_flow"
   ]
  },
  {
   "cell_type": "code",
   "execution_count": 38,
   "metadata": {},
   "outputs": [],
   "source": [
    "week_flow = week_flow.unstack(level = 0)\n",
    "week_flow = week_flow.reindex(index=['Monday', 'Tuesday', 'Wednesday', 'Thursday', 'Friday', 'Saturday', 'Sunday'])"
   ]
  },
  {
   "cell_type": "code",
   "execution_count": 39,
   "metadata": {},
   "outputs": [
    {
     "data": {
      "text/html": [
       "<div>\n",
       "<style scoped>\n",
       "    .dataframe tbody tr th:only-of-type {\n",
       "        vertical-align: middle;\n",
       "    }\n",
       "\n",
       "    .dataframe tbody tr th {\n",
       "        vertical-align: top;\n",
       "    }\n",
       "\n",
       "    .dataframe thead th {\n",
       "        text-align: right;\n",
       "    }\n",
       "</style>\n",
       "<table border=\"1\" class=\"dataframe\">\n",
       "  <thead>\n",
       "    <tr style=\"text-align: right;\">\n",
       "      <th>Behavior_type</th>\n",
       "      <th>buy</th>\n",
       "      <th>cart</th>\n",
       "      <th>fav</th>\n",
       "      <th>pv</th>\n",
       "    </tr>\n",
       "    <tr>\n",
       "      <th>Week_day</th>\n",
       "      <th></th>\n",
       "      <th></th>\n",
       "      <th></th>\n",
       "      <th></th>\n",
       "    </tr>\n",
       "  </thead>\n",
       "  <tbody>\n",
       "    <tr>\n",
       "      <th>Monday</th>\n",
       "      <td>22225</td>\n",
       "      <td>55010</td>\n",
       "      <td>29723</td>\n",
       "      <td>897421</td>\n",
       "    </tr>\n",
       "    <tr>\n",
       "      <th>Tuesday</th>\n",
       "      <td>20996</td>\n",
       "      <td>54194</td>\n",
       "      <td>29002</td>\n",
       "      <td>883696</td>\n",
       "    </tr>\n",
       "    <tr>\n",
       "      <th>Wednesday</th>\n",
       "      <td>21814</td>\n",
       "      <td>55802</td>\n",
       "      <td>30030</td>\n",
       "      <td>913153</td>\n",
       "    </tr>\n",
       "    <tr>\n",
       "      <th>Thursday</th>\n",
       "      <td>21731</td>\n",
       "      <td>56722</td>\n",
       "      <td>30469</td>\n",
       "      <td>929352</td>\n",
       "    </tr>\n",
       "    <tr>\n",
       "      <th>Friday</th>\n",
       "      <td>20940</td>\n",
       "      <td>62885</td>\n",
       "      <td>31048</td>\n",
       "      <td>972109</td>\n",
       "    </tr>\n",
       "    <tr>\n",
       "      <th>Saturday</th>\n",
       "      <td>25866</td>\n",
       "      <td>80377</td>\n",
       "      <td>40210</td>\n",
       "      <td>1238785</td>\n",
       "    </tr>\n",
       "    <tr>\n",
       "      <th>Sunday</th>\n",
       "      <td>25642</td>\n",
       "      <td>78390</td>\n",
       "      <td>39726</td>\n",
       "      <td>1225845</td>\n",
       "    </tr>\n",
       "  </tbody>\n",
       "</table>\n",
       "</div>"
      ],
      "text/plain": [
       "Behavior_type    buy   cart    fav       pv\n",
       "Week_day                                   \n",
       "Monday         22225  55010  29723   897421\n",
       "Tuesday        20996  54194  29002   883696\n",
       "Wednesday      21814  55802  30030   913153\n",
       "Thursday       21731  56722  30469   929352\n",
       "Friday         20940  62885  31048   972109\n",
       "Saturday       25866  80377  40210  1238785\n",
       "Sunday         25642  78390  39726  1225845"
      ]
     },
     "execution_count": 39,
     "metadata": {},
     "output_type": "execute_result"
    }
   ],
   "source": [
    "week_flow"
   ]
  },
  {
   "cell_type": "code",
   "execution_count": 40,
   "metadata": {},
   "outputs": [
    {
     "data": {
      "text/plain": [
       "([<matplotlib.axis.XTick at 0x22293cad2e8>,\n",
       "  <matplotlib.axis.XTick at 0x222940b6748>,\n",
       "  <matplotlib.axis.XTick at 0x22293f9c6d8>,\n",
       "  <matplotlib.axis.XTick at 0x22293fdcc50>,\n",
       "  <matplotlib.axis.XTick at 0x22293fdce80>,\n",
       "  <matplotlib.axis.XTick at 0x22293fb4390>,\n",
       "  <matplotlib.axis.XTick at 0x22293fb4860>],\n",
       " <a list of 7 Text xticklabel objects>)"
      ]
     },
     "execution_count": 40,
     "metadata": {},
     "output_type": "execute_result"
    },
    {
     "data": {
      "image/png": "[encoded data removed]",
      "text/plain": [
       "<Figure size 432x288 with 2 Axes>"
      ]
     },
     "metadata": {},
     "output_type": "display_data"
    }
   ],
   "source": [
    "#  由于采用两条Y轴，所以需要重新制定颜色，防止颜色重复\n",
    "plt.plot(week_flow['pv'], color='b', marker='o')\n",
    "plt.ylim(500000, 1500000)\n",
    "plt.legend(loc='upper right')\n",
    "plt.twinx()\n",
    "plt.plot(week_flow['buy'], color='g', marker='o')\n",
    "plt.plot(week_flow['cart'], color='r', marker='o')\n",
    "plt.plot(week_flow['fav'], color='c', marker='o')\n",
    "plt.ylim(10000, 300000)\n",
    "plt.legend(loc='upper left')\n",
    "plt.grid(b=False)\n",
    "plt.xticks(week_flow.index)"
   ]
  },
  {
   "cell_type": "markdown",
   "metadata": {},
   "source": [
    "从图中可以看出，从周一到周五，用户的行为数量一直保持非常缓慢的增长，而且相对于周末，属于一个较低的水平。在周末，用户的行为数量达到近25%的增长，至于增长的原因已经在前面分析过了，主要是平台的推广活动造成的。"
   ]
  },
  {
   "cell_type": "markdown",
   "metadata": {},
   "source": [
    "## 用户行为转化漏斗"
   ]
  },
  {
   "cell_type": "code",
   "execution_count": 41,
   "metadata": {},
   "outputs": [
    {
     "data": {
      "text/html": [
       "<div>\n",
       "<style scoped>\n",
       "    .dataframe tbody tr th:only-of-type {\n",
       "        vertical-align: middle;\n",
       "    }\n",
       "\n",
       "    .dataframe tbody tr th {\n",
       "        vertical-align: top;\n",
       "    }\n",
       "\n",
       "    .dataframe thead th {\n",
       "        text-align: right;\n",
       "    }\n",
       "</style>\n",
       "<table border=\"1\" class=\"dataframe\">\n",
       "  <thead>\n",
       "    <tr style=\"text-align: right;\">\n",
       "      <th>Behavior_type</th>\n",
       "      <th>buy</th>\n",
       "      <th>cart</th>\n",
       "      <th>fav</th>\n",
       "      <th>pv</th>\n",
       "    </tr>\n",
       "    <tr>\n",
       "      <th>Date</th>\n",
       "      <th></th>\n",
       "      <th></th>\n",
       "      <th></th>\n",
       "      <th></th>\n",
       "    </tr>\n",
       "  </thead>\n",
       "  <tbody>\n",
       "    <tr>\n",
       "      <th>2017-11-25</th>\n",
       "      <td>19714</td>\n",
       "      <td>56278</td>\n",
       "      <td>30168</td>\n",
       "      <td>931870</td>\n",
       "    </tr>\n",
       "    <tr>\n",
       "      <th>2017-11-26</th>\n",
       "      <td>20210</td>\n",
       "      <td>59469</td>\n",
       "      <td>31281</td>\n",
       "      <td>952269</td>\n",
       "    </tr>\n",
       "    <tr>\n",
       "      <th>2017-11-27</th>\n",
       "      <td>22225</td>\n",
       "      <td>55010</td>\n",
       "      <td>29723</td>\n",
       "      <td>897421</td>\n",
       "    </tr>\n",
       "    <tr>\n",
       "      <th>2017-11-28</th>\n",
       "      <td>20996</td>\n",
       "      <td>54194</td>\n",
       "      <td>29002</td>\n",
       "      <td>883696</td>\n",
       "    </tr>\n",
       "    <tr>\n",
       "      <th>2017-11-29</th>\n",
       "      <td>21814</td>\n",
       "      <td>55802</td>\n",
       "      <td>30030</td>\n",
       "      <td>913153</td>\n",
       "    </tr>\n",
       "    <tr>\n",
       "      <th>2017-11-30</th>\n",
       "      <td>21731</td>\n",
       "      <td>56722</td>\n",
       "      <td>30469</td>\n",
       "      <td>929352</td>\n",
       "    </tr>\n",
       "    <tr>\n",
       "      <th>2017-12-01</th>\n",
       "      <td>20940</td>\n",
       "      <td>62885</td>\n",
       "      <td>31048</td>\n",
       "      <td>972109</td>\n",
       "    </tr>\n",
       "    <tr>\n",
       "      <th>2017-12-02</th>\n",
       "      <td>25866</td>\n",
       "      <td>80377</td>\n",
       "      <td>40210</td>\n",
       "      <td>1238785</td>\n",
       "    </tr>\n",
       "    <tr>\n",
       "      <th>2017-12-03</th>\n",
       "      <td>25642</td>\n",
       "      <td>78390</td>\n",
       "      <td>39726</td>\n",
       "      <td>1225845</td>\n",
       "    </tr>\n",
       "  </tbody>\n",
       "</table>\n",
       "</div>"
      ],
      "text/plain": [
       "Behavior_type    buy   cart    fav       pv\n",
       "Date                                       \n",
       "2017-11-25     19714  56278  30168   931870\n",
       "2017-11-26     20210  59469  31281   952269\n",
       "2017-11-27     22225  55010  29723   897421\n",
       "2017-11-28     20996  54194  29002   883696\n",
       "2017-11-29     21814  55802  30030   913153\n",
       "2017-11-30     21731  56722  30469   929352\n",
       "2017-12-01     20940  62885  31048   972109\n",
       "2017-12-02     25866  80377  40210  1238785\n",
       "2017-12-03     25642  78390  39726  1225845"
      ]
     },
     "execution_count": 41,
     "metadata": {},
     "output_type": "execute_result"
    }
   ],
   "source": [
    "daily_data"
   ]
  },
  {
   "cell_type": "code",
   "execution_count": 42,
   "metadata": {},
   "outputs": [],
   "source": [
    "daily_data['pv_to_cart_and_fav'] =round(100 * (daily_data['cart'] + daily_data['fav']) / daily_data['pv'], 2)"
   ]
  },
  {
   "cell_type": "code",
   "execution_count": 43,
   "metadata": {},
   "outputs": [
    {
     "data": {
      "text/html": [
       "<div>\n",
       "<style scoped>\n",
       "    .dataframe tbody tr th:only-of-type {\n",
       "        vertical-align: middle;\n",
       "    }\n",
       "\n",
       "    .dataframe tbody tr th {\n",
       "        vertical-align: top;\n",
       "    }\n",
       "\n",
       "    .dataframe thead th {\n",
       "        text-align: right;\n",
       "    }\n",
       "</style>\n",
       "<table border=\"1\" class=\"dataframe\">\n",
       "  <thead>\n",
       "    <tr style=\"text-align: right;\">\n",
       "      <th>Behavior_type</th>\n",
       "      <th>buy</th>\n",
       "      <th>cart</th>\n",
       "      <th>fav</th>\n",
       "      <th>pv</th>\n",
       "      <th>pv_to_cart_and_fav</th>\n",
       "    </tr>\n",
       "    <tr>\n",
       "      <th>Date</th>\n",
       "      <th></th>\n",
       "      <th></th>\n",
       "      <th></th>\n",
       "      <th></th>\n",
       "      <th></th>\n",
       "    </tr>\n",
       "  </thead>\n",
       "  <tbody>\n",
       "    <tr>\n",
       "      <th>2017-11-25</th>\n",
       "      <td>19714</td>\n",
       "      <td>56278</td>\n",
       "      <td>30168</td>\n",
       "      <td>931870</td>\n",
       "      <td>9.28</td>\n",
       "    </tr>\n",
       "    <tr>\n",
       "      <th>2017-11-26</th>\n",
       "      <td>20210</td>\n",
       "      <td>59469</td>\n",
       "      <td>31281</td>\n",
       "      <td>952269</td>\n",
       "      <td>9.53</td>\n",
       "    </tr>\n",
       "    <tr>\n",
       "      <th>2017-11-27</th>\n",
       "      <td>22225</td>\n",
       "      <td>55010</td>\n",
       "      <td>29723</td>\n",
       "      <td>897421</td>\n",
       "      <td>9.44</td>\n",
       "    </tr>\n",
       "    <tr>\n",
       "      <th>2017-11-28</th>\n",
       "      <td>20996</td>\n",
       "      <td>54194</td>\n",
       "      <td>29002</td>\n",
       "      <td>883696</td>\n",
       "      <td>9.41</td>\n",
       "    </tr>\n",
       "    <tr>\n",
       "      <th>2017-11-29</th>\n",
       "      <td>21814</td>\n",
       "      <td>55802</td>\n",
       "      <td>30030</td>\n",
       "      <td>913153</td>\n",
       "      <td>9.40</td>\n",
       "    </tr>\n",
       "    <tr>\n",
       "      <th>2017-11-30</th>\n",
       "      <td>21731</td>\n",
       "      <td>56722</td>\n",
       "      <td>30469</td>\n",
       "      <td>929352</td>\n",
       "      <td>9.38</td>\n",
       "    </tr>\n",
       "    <tr>\n",
       "      <th>2017-12-01</th>\n",
       "      <td>20940</td>\n",
       "      <td>62885</td>\n",
       "      <td>31048</td>\n",
       "      <td>972109</td>\n",
       "      <td>9.66</td>\n",
       "    </tr>\n",
       "    <tr>\n",
       "      <th>2017-12-02</th>\n",
       "      <td>25866</td>\n",
       "      <td>80377</td>\n",
       "      <td>40210</td>\n",
       "      <td>1238785</td>\n",
       "      <td>9.73</td>\n",
       "    </tr>\n",
       "    <tr>\n",
       "      <th>2017-12-03</th>\n",
       "      <td>25642</td>\n",
       "      <td>78390</td>\n",
       "      <td>39726</td>\n",
       "      <td>1225845</td>\n",
       "      <td>9.64</td>\n",
       "    </tr>\n",
       "  </tbody>\n",
       "</table>\n",
       "</div>"
      ],
      "text/plain": [
       "Behavior_type    buy   cart    fav       pv  pv_to_cart_and_fav\n",
       "Date                                                           \n",
       "2017-11-25     19714  56278  30168   931870                9.28\n",
       "2017-11-26     20210  59469  31281   952269                9.53\n",
       "2017-11-27     22225  55010  29723   897421                9.44\n",
       "2017-11-28     20996  54194  29002   883696                9.41\n",
       "2017-11-29     21814  55802  30030   913153                9.40\n",
       "2017-11-30     21731  56722  30469   929352                9.38\n",
       "2017-12-01     20940  62885  31048   972109                9.66\n",
       "2017-12-02     25866  80377  40210  1238785                9.73\n",
       "2017-12-03     25642  78390  39726  1225845                9.64"
      ]
     },
     "execution_count": 43,
     "metadata": {},
     "output_type": "execute_result"
    }
   ],
   "source": [
    "daily_data"
   ]
  },
  {
   "cell_type": "code",
   "execution_count": 44,
   "metadata": {},
   "outputs": [],
   "source": [
    "daily_data['pv_to_buy'] = round(100 * daily_data['buy'] / daily_data['pv'], 2)"
   ]
  },
  {
   "cell_type": "code",
   "execution_count": 45,
   "metadata": {},
   "outputs": [
    {
     "data": {
      "text/html": [
       "<div>\n",
       "<style scoped>\n",
       "    .dataframe tbody tr th:only-of-type {\n",
       "        vertical-align: middle;\n",
       "    }\n",
       "\n",
       "    .dataframe tbody tr th {\n",
       "        vertical-align: top;\n",
       "    }\n",
       "\n",
       "    .dataframe thead th {\n",
       "        text-align: right;\n",
       "    }\n",
       "</style>\n",
       "<table border=\"1\" class=\"dataframe\">\n",
       "  <thead>\n",
       "    <tr style=\"text-align: right;\">\n",
       "      <th>Behavior_type</th>\n",
       "      <th>buy</th>\n",
       "      <th>cart</th>\n",
       "      <th>fav</th>\n",
       "      <th>pv</th>\n",
       "      <th>pv_to_cart_and_fav</th>\n",
       "      <th>pv_to_buy</th>\n",
       "    </tr>\n",
       "    <tr>\n",
       "      <th>Date</th>\n",
       "      <th></th>\n",
       "      <th></th>\n",
       "      <th></th>\n",
       "      <th></th>\n",
       "      <th></th>\n",
       "      <th></th>\n",
       "    </tr>\n",
       "  </thead>\n",
       "  <tbody>\n",
       "    <tr>\n",
       "      <th>2017-11-25</th>\n",
       "      <td>19714</td>\n",
       "      <td>56278</td>\n",
       "      <td>30168</td>\n",
       "      <td>931870</td>\n",
       "      <td>9.28</td>\n",
       "      <td>2.12</td>\n",
       "    </tr>\n",
       "    <tr>\n",
       "      <th>2017-11-26</th>\n",
       "      <td>20210</td>\n",
       "      <td>59469</td>\n",
       "      <td>31281</td>\n",
       "      <td>952269</td>\n",
       "      <td>9.53</td>\n",
       "      <td>2.12</td>\n",
       "    </tr>\n",
       "    <tr>\n",
       "      <th>2017-11-27</th>\n",
       "      <td>22225</td>\n",
       "      <td>55010</td>\n",
       "      <td>29723</td>\n",
       "      <td>897421</td>\n",
       "      <td>9.44</td>\n",
       "      <td>2.48</td>\n",
       "    </tr>\n",
       "    <tr>\n",
       "      <th>2017-11-28</th>\n",
       "      <td>20996</td>\n",
       "      <td>54194</td>\n",
       "      <td>29002</td>\n",
       "      <td>883696</td>\n",
       "      <td>9.41</td>\n",
       "      <td>2.38</td>\n",
       "    </tr>\n",
       "    <tr>\n",
       "      <th>2017-11-29</th>\n",
       "      <td>21814</td>\n",
       "      <td>55802</td>\n",
       "      <td>30030</td>\n",
       "      <td>913153</td>\n",
       "      <td>9.40</td>\n",
       "      <td>2.39</td>\n",
       "    </tr>\n",
       "    <tr>\n",
       "      <th>2017-11-30</th>\n",
       "      <td>21731</td>\n",
       "      <td>56722</td>\n",
       "      <td>30469</td>\n",
       "      <td>929352</td>\n",
       "      <td>9.38</td>\n",
       "      <td>2.34</td>\n",
       "    </tr>\n",
       "    <tr>\n",
       "      <th>2017-12-01</th>\n",
       "      <td>20940</td>\n",
       "      <td>62885</td>\n",
       "      <td>31048</td>\n",
       "      <td>972109</td>\n",
       "      <td>9.66</td>\n",
       "      <td>2.15</td>\n",
       "    </tr>\n",
       "    <tr>\n",
       "      <th>2017-12-02</th>\n",
       "      <td>25866</td>\n",
       "      <td>80377</td>\n",
       "      <td>40210</td>\n",
       "      <td>1238785</td>\n",
       "      <td>9.73</td>\n",
       "      <td>2.09</td>\n",
       "    </tr>\n",
       "    <tr>\n",
       "      <th>2017-12-03</th>\n",
       "      <td>25642</td>\n",
       "      <td>78390</td>\n",
       "      <td>39726</td>\n",
       "      <td>1225845</td>\n",
       "      <td>9.64</td>\n",
       "      <td>2.09</td>\n",
       "    </tr>\n",
       "  </tbody>\n",
       "</table>\n",
       "</div>"
      ],
      "text/plain": [
       "Behavior_type    buy   cart    fav       pv  pv_to_cart_and_fav  pv_to_buy\n",
       "Date                                                                      \n",
       "2017-11-25     19714  56278  30168   931870                9.28       2.12\n",
       "2017-11-26     20210  59469  31281   952269                9.53       2.12\n",
       "2017-11-27     22225  55010  29723   897421                9.44       2.48\n",
       "2017-11-28     20996  54194  29002   883696                9.41       2.38\n",
       "2017-11-29     21814  55802  30030   913153                9.40       2.39\n",
       "2017-11-30     21731  56722  30469   929352                9.38       2.34\n",
       "2017-12-01     20940  62885  31048   972109                9.66       2.15\n",
       "2017-12-02     25866  80377  40210  1238785                9.73       2.09\n",
       "2017-12-03     25642  78390  39726  1225845                9.64       2.09"
      ]
     },
     "execution_count": 45,
     "metadata": {},
     "output_type": "execute_result"
    }
   ],
   "source": [
    "daily_data"
   ]
  },
  {
   "cell_type": "code",
   "execution_count": 46,
   "metadata": {},
   "outputs": [],
   "source": [
    "daily_data['pv_pct'] = 100 * daily_data['pv'] / daily_data['pv']"
   ]
  },
  {
   "cell_type": "code",
   "execution_count": 47,
   "metadata": {},
   "outputs": [
    {
     "data": {
      "text/html": [
       "<div>\n",
       "<style scoped>\n",
       "    .dataframe tbody tr th:only-of-type {\n",
       "        vertical-align: middle;\n",
       "    }\n",
       "\n",
       "    .dataframe tbody tr th {\n",
       "        vertical-align: top;\n",
       "    }\n",
       "\n",
       "    .dataframe thead th {\n",
       "        text-align: right;\n",
       "    }\n",
       "</style>\n",
       "<table border=\"1\" class=\"dataframe\">\n",
       "  <thead>\n",
       "    <tr style=\"text-align: right;\">\n",
       "      <th>Behavior_type</th>\n",
       "      <th>buy</th>\n",
       "      <th>cart</th>\n",
       "      <th>fav</th>\n",
       "      <th>pv</th>\n",
       "      <th>pv_to_cart_and_fav</th>\n",
       "      <th>pv_to_buy</th>\n",
       "      <th>pv_pct</th>\n",
       "    </tr>\n",
       "    <tr>\n",
       "      <th>Date</th>\n",
       "      <th></th>\n",
       "      <th></th>\n",
       "      <th></th>\n",
       "      <th></th>\n",
       "      <th></th>\n",
       "      <th></th>\n",
       "      <th></th>\n",
       "    </tr>\n",
       "  </thead>\n",
       "  <tbody>\n",
       "    <tr>\n",
       "      <th>2017-11-25</th>\n",
       "      <td>19714</td>\n",
       "      <td>56278</td>\n",
       "      <td>30168</td>\n",
       "      <td>931870</td>\n",
       "      <td>9.28</td>\n",
       "      <td>2.12</td>\n",
       "      <td>100.0</td>\n",
       "    </tr>\n",
       "    <tr>\n",
       "      <th>2017-11-26</th>\n",
       "      <td>20210</td>\n",
       "      <td>59469</td>\n",
       "      <td>31281</td>\n",
       "      <td>952269</td>\n",
       "      <td>9.53</td>\n",
       "      <td>2.12</td>\n",
       "      <td>100.0</td>\n",
       "    </tr>\n",
       "    <tr>\n",
       "      <th>2017-11-27</th>\n",
       "      <td>22225</td>\n",
       "      <td>55010</td>\n",
       "      <td>29723</td>\n",
       "      <td>897421</td>\n",
       "      <td>9.44</td>\n",
       "      <td>2.48</td>\n",
       "      <td>100.0</td>\n",
       "    </tr>\n",
       "    <tr>\n",
       "      <th>2017-11-28</th>\n",
       "      <td>20996</td>\n",
       "      <td>54194</td>\n",
       "      <td>29002</td>\n",
       "      <td>883696</td>\n",
       "      <td>9.41</td>\n",
       "      <td>2.38</td>\n",
       "      <td>100.0</td>\n",
       "    </tr>\n",
       "    <tr>\n",
       "      <th>2017-11-29</th>\n",
       "      <td>21814</td>\n",
       "      <td>55802</td>\n",
       "      <td>30030</td>\n",
       "      <td>913153</td>\n",
       "      <td>9.40</td>\n",
       "      <td>2.39</td>\n",
       "      <td>100.0</td>\n",
       "    </tr>\n",
       "    <tr>\n",
       "      <th>2017-11-30</th>\n",
       "      <td>21731</td>\n",
       "      <td>56722</td>\n",
       "      <td>30469</td>\n",
       "      <td>929352</td>\n",
       "      <td>9.38</td>\n",
       "      <td>2.34</td>\n",
       "      <td>100.0</td>\n",
       "    </tr>\n",
       "    <tr>\n",
       "      <th>2017-12-01</th>\n",
       "      <td>20940</td>\n",
       "      <td>62885</td>\n",
       "      <td>31048</td>\n",
       "      <td>972109</td>\n",
       "      <td>9.66</td>\n",
       "      <td>2.15</td>\n",
       "      <td>100.0</td>\n",
       "    </tr>\n",
       "    <tr>\n",
       "      <th>2017-12-02</th>\n",
       "      <td>25866</td>\n",
       "      <td>80377</td>\n",
       "      <td>40210</td>\n",
       "      <td>1238785</td>\n",
       "      <td>9.73</td>\n",
       "      <td>2.09</td>\n",
       "      <td>100.0</td>\n",
       "    </tr>\n",
       "    <tr>\n",
       "      <th>2017-12-03</th>\n",
       "      <td>25642</td>\n",
       "      <td>78390</td>\n",
       "      <td>39726</td>\n",
       "      <td>1225845</td>\n",
       "      <td>9.64</td>\n",
       "      <td>2.09</td>\n",
       "      <td>100.0</td>\n",
       "    </tr>\n",
       "  </tbody>\n",
       "</table>\n",
       "</div>"
      ],
      "text/plain": [
       "Behavior_type    buy   cart    fav       pv  pv_to_cart_and_fav  pv_to_buy  \\\n",
       "Date                                                                         \n",
       "2017-11-25     19714  56278  30168   931870                9.28       2.12   \n",
       "2017-11-26     20210  59469  31281   952269                9.53       2.12   \n",
       "2017-11-27     22225  55010  29723   897421                9.44       2.48   \n",
       "2017-11-28     20996  54194  29002   883696                9.41       2.38   \n",
       "2017-11-29     21814  55802  30030   913153                9.40       2.39   \n",
       "2017-11-30     21731  56722  30469   929352                9.38       2.34   \n",
       "2017-12-01     20940  62885  31048   972109                9.66       2.15   \n",
       "2017-12-02     25866  80377  40210  1238785                9.73       2.09   \n",
       "2017-12-03     25642  78390  39726  1225845                9.64       2.09   \n",
       "\n",
       "Behavior_type  pv_pct  \n",
       "Date                   \n",
       "2017-11-25      100.0  \n",
       "2017-11-26      100.0  \n",
       "2017-11-27      100.0  \n",
       "2017-11-28      100.0  \n",
       "2017-11-29      100.0  \n",
       "2017-11-30      100.0  \n",
       "2017-12-01      100.0  \n",
       "2017-12-02      100.0  \n",
       "2017-12-03      100.0  "
      ]
     },
     "execution_count": 47,
     "metadata": {},
     "output_type": "execute_result"
    }
   ],
   "source": [
    "daily_data"
   ]
  },
  {
   "cell_type": "code",
   "execution_count": 49,
   "metadata": {},
   "outputs": [
    {
     "data": {
      "text/plain": [
       "2.2263999999999999"
      ]
     },
     "execution_count": 49,
     "metadata": {},
     "output_type": "execute_result"
    }
   ],
   "source": [
    "pv_to_buy = round(daily_data['buy'].sum() / daily_data['pv'].sum() * 100, 4) \n",
    "pv_to_buy"
   ]
  },
  {
   "cell_type": "code",
   "execution_count": 50,
   "metadata": {},
   "outputs": [
    {
     "data": {
      "text/plain": [
       "9.5117999999999991"
      ]
     },
     "execution_count": 50,
     "metadata": {},
     "output_type": "execute_result"
    }
   ],
   "source": [
    "pv_to_cart_and_fav =  round((daily_data['cart'].sum()  + daily_data['fav'].sum()) / daily_data['pv'].sum() * 100, 4)\n",
    "pv_to_cart_and_fav"
   ]
  },
  {
   "cell_type": "code",
   "execution_count": 51,
   "metadata": {},
   "outputs": [
    {
     "data": {
      "text/plain": [
       "8944500"
      ]
     },
     "execution_count": 51,
     "metadata": {},
     "output_type": "execute_result"
    }
   ],
   "source": [
    "daily_data['pv'].sum()"
   ]
  },
  {
   "cell_type": "code",
   "execution_count": 52,
   "metadata": {},
   "outputs": [
    {
     "data": {
      "text/plain": [
       "850784"
      ]
     },
     "execution_count": 52,
     "metadata": {},
     "output_type": "execute_result"
    }
   ],
   "source": [
    "daily_data['cart'].sum()  + daily_data['fav'].sum()"
   ]
  },
  {
   "cell_type": "code",
   "execution_count": 53,
   "metadata": {},
   "outputs": [
    {
     "data": {
      "text/plain": [
       "199138"
      ]
     },
     "execution_count": 53,
     "metadata": {},
     "output_type": "execute_result"
    }
   ],
   "source": [
    "daily_data['buy'].sum()"
   ]
  },
  {
   "cell_type": "code",
   "execution_count": 54,
   "metadata": {},
   "outputs": [
    {
     "data": {
      "text/plain": [
       "[8944500, 850784, 199138]"
      ]
     },
     "execution_count": 54,
     "metadata": {},
     "output_type": "execute_result"
    }
   ],
   "source": [
    "behavior_nums = [daily_data['pv'].sum(), daily_data['cart'].sum()  + daily_data['fav'].sum(), daily_data['buy'].sum()]\n",
    "behavior_type = ['pv', 'pv_to_cart_and_fav', 'pv_to_buy']\n",
    "behavior_nums "
   ]
  },
  {
   "cell_type": "code",
   "execution_count": 55,
   "metadata": {},
   "outputs": [
    {
     "data": {
      "text/plain": [
       "[('pv', 100),\n",
       " ('pv_to_cart_and_fav', 9.5117999999999991),\n",
       " ('pv_to_buy', 2.2263999999999999)]"
      ]
     },
     "execution_count": 55,
     "metadata": {},
     "output_type": "execute_result"
    }
   ],
   "source": [
    "data = [('pv', 100), ('pv_to_cart_and_fav', pv_to_cart_and_fav), ('pv_to_buy', pv_to_buy)]\n",
    "data"
   ]
  },
  {
   "cell_type": "code",
   "execution_count": 56,
   "metadata": {},
   "outputs": [],
   "source": [
    "from pyecharts  import options as opts\n",
    "from pyecharts.charts import Funnel, Page"
   ]
  },
  {
   "cell_type": "code",
   "execution_count": 63,
   "metadata": {},
   "outputs": [],
   "source": [
    "b = (\n",
    "        Funnel()\n",
    "        .add(\n",
    "                \"\", \n",
    "                data,\n",
    "                tooltip_opts=opts.TooltipOpts(is_show=True, trigger=\"item\", formatter=\"{b}:{c}%\"),\n",
    "                label_opts=opts.LabelOpts(is_show=True, formatter=\"{b}: {c}%\")\n",
    "        )\n",
    "        .set_global_opts(title_opts=opts.TitleOpts(title=\"用户行为转化漏斗\"))\n",
    "    )"
   ]
  },
  {
   "cell_type": "code",
   "execution_count": 64,
   "metadata": {},
   "outputs": [
    {
     "data": {
      "text/plain": [
       "'C:\\\\Users\\\\KILO\\\\DataAnalysis\\\\taobao_user_behavior_analysis\\\\用户行为转化漏斗.html'"
      ]
     },
     "execution_count": 64,
     "metadata": {},
     "output_type": "execute_result"
    }
   ],
   "source": [
    "b.render('用户行为转化漏斗.html')"
   ]
  },
  {
   "cell_type": "code",
   "execution_count": 66,
   "metadata": {},
   "outputs": [
    {
     "data": {
      "text/html": [
       "<script>\n",
       "    require.config({\n",
       "        paths: {\n",
       "            'echarts':'https://assets.pyecharts.org/assets/echarts.min'\n",
       "        }\n",
       "    });\n",
       "</script>\n",
       "\n",
       "    <div id=\"88816c45e4e44a20bf027a4812fb8574\" style=\"width:900px; height:500px;\"></div>\n",
       "\n",
       "\n",
       "<script>\n",
       "    require(['echarts'], function(echarts) {\n",
       "        var chart_88816c45e4e44a20bf027a4812fb8574 = echarts.init(\n",
       "            document.getElementById('88816c45e4e44a20bf027a4812fb8574'), 'white', {renderer: 'canvas'});\n",
       "        var option_88816c45e4e44a20bf027a4812fb8574 = {\n",
       "    \"color\": [\n",
       "        \"#c23531\",\n",
       "        \"#2f4554\",\n",
       "        \"#61a0a8\",\n",
       "        \"#d48265\",\n",
       "        \"#749f83\",\n",
       "        \"#ca8622\",\n",
       "        \"#bda29a\",\n",
       "        \"#6e7074\",\n",
       "        \"#546570\",\n",
       "        \"#c4ccd3\",\n",
       "        \"#f05b72\",\n",
       "        \"#ef5b9c\",\n",
       "        \"#f47920\",\n",
       "        \"#905a3d\",\n",
       "        \"#fab27b\",\n",
       "        \"#2a5caa\",\n",
       "        \"#444693\",\n",
       "        \"#726930\",\n",
       "        \"#b2d235\",\n",
       "        \"#6d8346\",\n",
       "        \"#ac6767\",\n",
       "        \"#1d953f\",\n",
       "        \"#6950a1\",\n",
       "        \"#918597\"\n",
       "    ],\n",
       "    \"series\": [\n",
       "        {\n",
       "            \"type\": \"funnel\",\n",
       "            \"data\": [\n",
       "                {\n",
       "                    \"name\": \"pv\",\n",
       "                    \"value\": 100\n",
       "                },\n",
       "                {\n",
       "                    \"name\": \"pv_to_cart_and_fav\",\n",
       "                    \"value\": 9.5118\n",
       "                },\n",
       "                {\n",
       "                    \"name\": \"pv_to_buy\",\n",
       "                    \"value\": 2.2264\n",
       "                }\n",
       "            ],\n",
       "            \"sort\": \"descending\",\n",
       "            \"gap\": 0,\n",
       "            \"label\": {\n",
       "                \"show\": true,\n",
       "                \"position\": \"top\",\n",
       "                \"margin\": 8,\n",
       "                \"fontSize\": 12,\n",
       "                \"formatter\": \"{b}: {c}%\"\n",
       "            },\n",
       "            \"tooltip\": {\n",
       "                \"show\": true,\n",
       "                \"trigger\": \"item\",\n",
       "                \"triggerOn\": \"mousemove|click\",\n",
       "                \"axisPointer\": {\n",
       "                    \"type\": \"line\"\n",
       "                },\n",
       "                \"formatter\": \"{b}:{c}%\",\n",
       "                \"textStyle\": {\n",
       "                    \"fontSize\": 14\n",
       "                },\n",
       "                \"borderWidth\": 0\n",
       "            }\n",
       "        }\n",
       "    ],\n",
       "    \"legend\": [\n",
       "        {\n",
       "            \"data\": [\n",
       "                \"pv_to_buy\",\n",
       "                \"pv\",\n",
       "                \"pv_to_cart_and_fav\"\n",
       "            ],\n",
       "            \"selected\": {\n",
       "                \"pv\": true,\n",
       "                \"pv_to_cart_and_fav\": true,\n",
       "                \"pv_to_buy\": true\n",
       "            },\n",
       "            \"show\": true\n",
       "        }\n",
       "    ],\n",
       "    \"tooltip\": {\n",
       "        \"show\": true,\n",
       "        \"trigger\": \"item\",\n",
       "        \"triggerOn\": \"mousemove|click\",\n",
       "        \"axisPointer\": {\n",
       "            \"type\": \"line\"\n",
       "        },\n",
       "        \"textStyle\": {\n",
       "            \"fontSize\": 14\n",
       "        },\n",
       "        \"borderWidth\": 0\n",
       "    },\n",
       "    \"title\": [\n",
       "        {\n",
       "            \"text\": \"\\u7528\\u6237\\u884c\\u4e3a\\u8f6c\\u5316\\u6f0f\\u6597\"\n",
       "        }\n",
       "    ]\n",
       "};\n",
       "        chart_88816c45e4e44a20bf027a4812fb8574.setOption(option_88816c45e4e44a20bf027a4812fb8574);\n",
       "    });\n",
       "</script>\n"
      ],
      "text/plain": [
       "<pyecharts.render.display.HTML at 0x222be5c04e0>"
      ]
     },
     "execution_count": 66,
     "metadata": {},
     "output_type": "execute_result"
    }
   ],
   "source": [
    "b.render_notebook()"
   ]
  },
  {
   "cell_type": "markdown",
   "metadata": {},
   "source": [
    "分析"
   ]
  },
  {
   "cell_type": "markdown",
   "metadata": {},
   "source": [
    "## 新增用户分析"
   ]
  },
  {
   "cell_type": "markdown",
   "metadata": {},
   "source": [
    "由于2017/11/25为数据开始日期，无法与 前一天数据进行比较，所以计算从2017/11/26开始的新增用户。计算方式为当天第一次出现用户行为的用户。"
   ]
  },
  {
   "cell_type": "code",
   "execution_count": 81,
   "metadata": {},
   "outputs": [],
   "source": [
    "# 把Date列的数据类型由object转化为datetime, 便于筛选\n",
    "data_set['Date'] = pd.to_datetime(data_set['Date'], format='%Y-%m-%d')"
   ]
  },
  {
   "cell_type": "code",
   "execution_count": 82,
   "metadata": {},
   "outputs": [
    {
     "name": "stdout",
     "output_type": "stream",
     "text": [
      "<class 'pandas.core.frame.DataFrame'>\n",
      "Int64Index: 9994422 entries, 0 to 9999999\n",
      "Data columns (total 9 columns):\n",
      "User_ID          int64\n",
      "Item_ID          int64\n",
      "Category_ID      int64\n",
      "Behavior_type    object\n",
      "Timestamp        int64\n",
      "Datetime         datetime64[ns]\n",
      "Date             datetime64[ns]\n",
      "Hour             int64\n",
      "Week_day         object\n",
      "dtypes: datetime64[ns](2), int64(5), object(2)\n",
      "memory usage: 1.1+ GB\n"
     ]
    }
   ],
   "source": [
    "data_set.info()"
   ]
  },
  {
   "cell_type": "code",
   "execution_count": 88,
   "metadata": {},
   "outputs": [],
   "source": [
    "new_user = data_set[data_set['Date'] == '2017-11-26']['User_ID'].isin(data_set[data_set['Date'] == '2017-11-25']['User_ID'])"
   ]
  },
  {
   "cell_type": "code",
   "execution_count": 96,
   "metadata": {},
   "outputs": [
    {
     "data": {
      "text/plain": [
       "1063229"
      ]
     },
     "execution_count": 96,
     "metadata": {},
     "output_type": "execute_result"
    }
   ],
   "source": [
    "new_user.count()"
   ]
  },
  {
   "cell_type": "code",
   "execution_count": 94,
   "metadata": {},
   "outputs": [
    {
     "data": {
      "text/plain": [
       "True"
      ]
     },
     "execution_count": 94,
     "metadata": {},
     "output_type": "execute_result"
    }
   ],
   "source": [
    "new_user.iloc[1]"
   ]
  },
  {
   "cell_type": "code",
   "execution_count": null,
   "metadata": {},
   "outputs": [],
   "source": []
  }
 ],
 "metadata": {
  "kernelspec": {
   "display_name": "Python 3",
   "language": "python",
   "name": "python3"
  },
  "language_info": {
   "codemirror_mode": {
    "name": "ipython",
    "version": 3
   },
   "file_extension": ".py",
   "mimetype": "text/x-python",
   "name": "python",
   "nbconvert_exporter": "python",
   "pygments_lexer": "ipython3",
   "version": "3.6.4"
  }
 },
 "nbformat": 4,
 "nbformat_minor": 2
}
